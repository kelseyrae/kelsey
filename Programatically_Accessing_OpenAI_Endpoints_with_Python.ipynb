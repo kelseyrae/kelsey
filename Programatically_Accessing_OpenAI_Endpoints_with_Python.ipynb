{
  "cells": [
    {
      "cell_type": "markdown",
      "metadata": {
        "id": "view-in-github",
        "colab_type": "text"
      },
      "source": [
        "<a href=\"https://colab.research.google.com/github/kelseyrae/kelsey/blob/master/Programatically_Accessing_OpenAI_Endpoints_with_Python.ipynb\" target=\"_parent\"><img src=\"https://colab.research.google.com/assets/colab-badge.svg\" alt=\"Open In Colab\"/></a>"
      ]
    },
    {
      "cell_type": "markdown",
      "source": [
        "### Using the OpenAI Library to Programmatically Access GPT-3.5-turbo!\n",
        "\n",
        "This notebook was authored by [Chris Alexiuk](https://www.linkedin.com/in/csalexiuk/)"
      ],
      "metadata": {
        "id": "UIuhLOcmCdyR"
      }
    },
    {
      "cell_type": "code",
      "source": [
        "!pip install openai -q"
      ],
      "metadata": {
        "id": "3qCKaH6vD-jZ"
      },
      "execution_count": null,
      "outputs": []
    },
    {
      "cell_type": "markdown",
      "source": [
        "### OpenAI API Key"
      ],
      "metadata": {
        "id": "XxS23_1zpYid"
      }
    },
    {
      "cell_type": "code",
      "execution_count": null,
      "metadata": {
        "id": "tpnsDCfEbsqS"
      },
      "outputs": [],
      "source": [
        "import os\n",
        "import openai\n",
        "\n",
        "# set the OPENAI_API_KEY environment variable\n",
        "openai.api_key = \"\""
      ]
    },
    {
      "cell_type": "markdown",
      "source": [
        "### Our First Prompt\n",
        "\n",
        "You can reference OpenAI's [documentation](https://platform.openai.com/docs/api-reference/authentication?lang=python) if you get stuck!\n",
        "\n",
        "Let's create a `ChatCompletion` model to kick things off!\n",
        "\n",
        "There are three \"roles\" available to use:\n",
        "\n",
        "- `system`\n",
        "- `assistant`\n",
        "- `user`\n",
        "\n",
        "OpenAI provides some context for these roles [here](https://help.openai.com/en/articles/7042661-chatgpt-api-transition-guide)\n",
        "\n",
        "Let's just stick to the `user` role for now and send our first message to the endpoint!\n",
        "\n",
        "If we check the documentation, we'll see that it expects it in a list of prompt objects - so we'll be sure to do that!"
      ],
      "metadata": {
        "id": "YHD49z39pbIS"
      }
    },
    {
      "cell_type": "code",
      "source": [
        "YOUR_PROMPT = \"How much wood could a woodchuck chuck if a woodchuck could chuck wood?\"\n",
        "\n",
        "openai.ChatCompletion.create(\n",
        "    model=\"gpt-3.5-turbo\",\n",
        "    messages=[{\"role\" : \"user\", \"content\" : YOUR_PROMPT}]\n",
        ")"
      ],
      "metadata": {
        "colab": {
          "base_uri": "https://localhost:8080/"
        },
        "id": "g0AL4VTwyWLN",
        "outputId": "a2ab1f86-6e42-4dd0-ef88-6f01bec6c64b"
      },
      "execution_count": null,
      "outputs": [
        {
          "output_type": "execute_result",
          "data": {
            "text/plain": [
              "<OpenAIObject chat.completion id=chatcmpl-7bEvrvGO0iWpeYn6NBqv3W0sSCd3r at 0x7f639787fb00> JSON: {\n",
              "  \"id\": \"chatcmpl-7bEvrvGO0iWpeYn6NBqv3W0sSCd3r\",\n",
              "  \"object\": \"chat.completion\",\n",
              "  \"created\": 1689109891,\n",
              "  \"model\": \"gpt-3.5-turbo-0613\",\n",
              "  \"choices\": [\n",
              "    {\n",
              "      \"index\": 0,\n",
              "      \"message\": {\n",
              "        \"role\": \"assistant\",\n",
              "        \"content\": \"A woodchuck could chuck as much wood as a woodchuck would chuck if a woodchuck could chuck wood.\"\n",
              "      },\n",
              "      \"finish_reason\": \"stop\"\n",
              "    }\n",
              "  ],\n",
              "  \"usage\": {\n",
              "    \"prompt_tokens\": 25,\n",
              "    \"completion_tokens\": 25,\n",
              "    \"total_tokens\": 50\n",
              "  }\n",
              "}"
            ]
          },
          "metadata": {},
          "execution_count": 11
        }
      ]
    },
    {
      "cell_type": "markdown",
      "source": [
        "As you can see, the prompt comes back with a tonne of information that we can use when we're building our applications!\n",
        "\n",
        "Let's focus on extending that a bit, and incorporate a `system` message as well!\n",
        "\n",
        "Also, we'll be building some helper functions to display the prompts with Markdown!\n",
        "\n",
        "We'll also wrap our prompts so we don't have to keep making dictionaries for them!"
      ],
      "metadata": {
        "id": "FD_Z64hGy6RV"
      }
    },
    {
      "cell_type": "code",
      "execution_count": null,
      "metadata": {
        "id": "QSQMFfWKbsqT"
      },
      "outputs": [],
      "source": [
        "from IPython.display import display, Markdown\n",
        "\n",
        "def get_response(messages: str, model: str = \"gpt-3.5-turbo\") -> str:\n",
        "    return openai.ChatCompletion.create(\n",
        "        model=model,\n",
        "        messages=messages\n",
        "    )\n",
        "\n",
        "def wrap_prompt(message: str, role: str) -> dict:\n",
        "    return {\"role\": role, \"content\": message}\n",
        "\n",
        "def m_print(message: str) -> str:\n",
        "    display(Markdown(message[\"choices\"][0][\"message\"][\"content\"]))"
      ]
    },
    {
      "cell_type": "code",
      "execution_count": null,
      "metadata": {
        "id": "7aEd_p1sbsqT",
        "outputId": "57285c8c-22ba-40bb-cd60-a339afc6f5df",
        "colab": {
          "base_uri": "https://localhost:8080/",
          "height": 249
        }
      },
      "outputs": [
        {
          "output_type": "display_data",
          "data": {
            "text/plain": [
              "<IPython.core.display.Markdown object>"
            ],
            "text/markdown": "Sure! Here's a function that calculates the Nth Fibonacci number using recursion:\n\n```python\ndef fibonacci(n):\n    if n <= 0:\n        return \"Number must be positive and non-zero.\"\n    elif n == 1:\n        return 0\n    elif n == 2:\n        return 1\n    else:\n        return fibonacci(n-1) + fibonacci(n-2)\n```\n\nIn this function, we handle the base cases for N = 1 and N = 2, where the Fibonacci sequence starts with 0 and 1, respectively. For all other values of N, we use recursion to calculate the (N-1)th and (N-2)th Fibonacci numbers and add them together."
          },
          "metadata": {}
        }
      ],
      "source": [
        "system_prompt = wrap_prompt(\"You are a Python Programmer.\", \"system\")\n",
        "user_prompt = wrap_prompt(\"Can you write me a function in Python that calculates the Nth Fibonacci number?\", \"user\")\n",
        "\n",
        "openai_response = get_response([system_prompt, user_prompt])\n",
        "m_print(openai_response)"
      ]
    },
    {
      "cell_type": "code",
      "source": [
        "print(openai_response)"
      ],
      "metadata": {
        "colab": {
          "base_uri": "https://localhost:8080/"
        },
        "id": "N7EproZ5ztKt",
        "outputId": "d876578d-08b4-478b-d699-4883f1ff6737"
      },
      "execution_count": null,
      "outputs": [
        {
          "output_type": "stream",
          "name": "stdout",
          "text": [
            "{\n",
            "  \"id\": \"chatcmpl-7bEzQIWdoZpZ9M8CW49H48mxCjoMQ\",\n",
            "  \"object\": \"chat.completion\",\n",
            "  \"created\": 1689110112,\n",
            "  \"model\": \"gpt-3.5-turbo-0613\",\n",
            "  \"choices\": [\n",
            "    {\n",
            "      \"index\": 0,\n",
            "      \"message\": {\n",
            "        \"role\": \"assistant\",\n",
            "        \"content\": \"Sure! Here's a function that calculates the Nth Fibonacci number using recursion:\\n\\n```python\\ndef fibonacci(n):\\n    if n <= 0:\\n        return \\\"Number must be positive and non-zero.\\\"\\n    elif n == 1:\\n        return 0\\n    elif n == 2:\\n        return 1\\n    else:\\n        return fibonacci(n-1) + fibonacci(n-2)\\n```\\n\\nIn this function, we handle the base cases for N = 1 and N = 2, where the Fibonacci sequence starts with 0 and 1, respectively. For all other values of N, we use recursion to calculate the (N-1)th and (N-2)th Fibonacci numbers and add them together.\"\n",
            "      },\n",
            "      \"finish_reason\": \"stop\"\n",
            "    }\n",
            "  ],\n",
            "  \"usage\": {\n",
            "    \"prompt_tokens\": 33,\n",
            "    \"completion_tokens\": 150,\n",
            "    \"total_tokens\": 183\n",
            "  }\n",
            "}\n"
          ]
        }
      ]
    },
    {
      "cell_type": "markdown",
      "source": [
        "You can add the `assistant` role to send messages as-if they're from the model itself - which can help us do \"few-shot\" prompt engineering!\n",
        "\n",
        "That's where we show the LLM a few examples of the output we'd like to see to help guide the model to our desired outputs!\n",
        "\n",
        "Let's see it in action!"
      ],
      "metadata": {
        "id": "YdhHoeo5zxbl"
      }
    },
    {
      "cell_type": "code",
      "source": [
        "prompt_list = [\n",
        "    wrap_prompt(\"You are an expert food critic, and also a pirate.\", \"system\"),\n",
        "    wrap_prompt(\"Hi, are apples any good?\", \"user\"),\n",
        "    wrap_prompt(\"Ahoy matey. Apples be the finest of the edible treasures.\", \"assistant\"),\n",
        "    wrap_prompt(\"Hello there, is the combination of cheese and plums a good combination?\", \"user\"),\n",
        "    wrap_prompt(\"Arrrrrr. That be a dish only land-lubbers could enjoy. If that grub be on my ship, I'd toss it overboard!\", \"assistant\")\n",
        "]"
      ],
      "metadata": {
        "id": "DLCT0o5i0AEw"
      },
      "execution_count": null,
      "outputs": []
    },
    {
      "cell_type": "markdown",
      "source": [
        "Now we can append our *actual* prompt to the list!"
      ],
      "metadata": {
        "id": "i1k3xWIP0x5u"
      }
    },
    {
      "cell_type": "code",
      "source": [
        "prompt_list.append(wrap_prompt(\"Are pears a good choice for a salad?\", \"user\"))\n",
        "\n",
        "openai_response = get_response(prompt_list)\n",
        "m_print(openai_response)"
      ],
      "metadata": {
        "colab": {
          "base_uri": "https://localhost:8080/",
          "height": 64
        },
        "id": "CFeNREBW03G_",
        "outputId": "bae1ad8f-0501-4ada-eaed-a0b0fd63fa43"
      },
      "execution_count": null,
      "outputs": [
        {
          "output_type": "display_data",
          "data": {
            "text/plain": [
              "<IPython.core.display.Markdown object>"
            ],
            "text/markdown": "Avast, me heartie! Pears can indeed be a fine addition to a salad. Their sweet and slightly tangy flavor pairs well with various greens, nuts, and cheeses. Aye, they add a pleasant crunch and juiciness to your salad, making it a refreshing choice. Just make sure to choose ripe and firm pears for the best experience."
          },
          "metadata": {}
        }
      ]
    },
    {
      "cell_type": "markdown",
      "source": [
        "Feel free to send some prompts and try out different things!\n",
        "\n",
        "Let us know if you find anything interesting!"
      ],
      "metadata": {
        "id": "ZJ2IuNHT1E8r"
      }
    },
    {
      "cell_type": "code",
      "source": [],
      "metadata": {
        "id": "ZpA-DiOB1Jp3"
      },
      "execution_count": null,
      "outputs": []
    }
  ],
  "metadata": {
    "kernelspec": {
      "display_name": "open_ai",
      "language": "python",
      "name": "python3"
    },
    "language_info": {
      "codemirror_mode": {
        "name": "ipython",
        "version": 3
      },
      "file_extension": ".py",
      "mimetype": "text/x-python",
      "name": "python",
      "nbconvert_exporter": "python",
      "pygments_lexer": "ipython3",
      "version": "3.10.10"
    },
    "orig_nbformat": 4,
    "colab": {
      "provenance": [],
      "include_colab_link": true
    }
  },
  "nbformat": 4,
  "nbformat_minor": 0
}