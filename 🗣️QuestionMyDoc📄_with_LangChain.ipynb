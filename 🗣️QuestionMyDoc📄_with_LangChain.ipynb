{
  "nbformat": 4,
  "nbformat_minor": 0,
  "metadata": {
    "colab": {
      "provenance": [],
      "include_colab_link": true
    },
    "kernelspec": {
      "name": "python3",
      "display_name": "Python 3"
    },
    "language_info": {
      "name": "python"
    }
  },
  "cells": [
    {
      "cell_type": "markdown",
      "metadata": {
        "id": "view-in-github",
        "colab_type": "text"
      },
      "source": [
        "<a href=\"https://colab.research.google.com/github/kelseyrae/kelsey/blob/master/%F0%9F%97%A3%EF%B8%8FQuestionMyDoc%F0%9F%93%84_with_LangChain.ipynb\" target=\"_parent\"><img src=\"https://colab.research.google.com/assets/colab-badge.svg\" alt=\"Open In Colab\"/></a>"
      ]
    },
    {
      "cell_type": "markdown",
      "source": [
        "### The Basics of LangChain\n",
        "\n",
        "In this notebook we'll explore exactly what LangChain is doing - and implement a straightforward example that lets us ask questions of any document we want!\n",
        "\n",
        "First things first, let's get our dependencies all set!"
      ],
      "metadata": {
        "id": "kEKghJQ2pmYH"
      }
    },
    {
      "cell_type": "code",
      "execution_count": null,
      "metadata": {
        "id": "fXsYHTgvnCM2",
        "colab": {
          "base_uri": "https://localhost:8080/"
        },
        "outputId": "36fb461a-25aa-4ffe-c684-1ca6f8eb0904"
      },
      "outputs": [
        {
          "output_type": "stream",
          "name": "stdout",
          "text": [
            "\u001b[2K     \u001b[90m━━━━━━━━━━━━━━━━━━━━━━━━━━━━━━━━━━━━━━━━\u001b[0m \u001b[32m72.0/72.0 kB\u001b[0m \u001b[31m3.1 MB/s\u001b[0m eta \u001b[36m0:00:00\u001b[0m\n",
            "\u001b[2K     \u001b[90m━━━━━━━━━━━━━━━━━━━━━━━━━━━━━━━━━━━━━━\u001b[0m \u001b[32m892.2/892.2 kB\u001b[0m \u001b[31m11.8 MB/s\u001b[0m eta \u001b[36m0:00:00\u001b[0m\n",
            "\u001b[2K     \u001b[90m━━━━━━━━━━━━━━━━━━━━━━━━━━━━━━━━━━━━━━━━\u001b[0m \u001b[32m1.0/1.0 MB\u001b[0m \u001b[31m53.0 MB/s\u001b[0m eta \u001b[36m0:00:00\u001b[0m\n",
            "\u001b[2K     \u001b[90m━━━━━━━━━━━━━━━━━━━━━━━━━━━━━━━━━━━━━━━━\u001b[0m \u001b[32m90.0/90.0 kB\u001b[0m \u001b[31m8.7 MB/s\u001b[0m eta \u001b[36m0:00:00\u001b[0m\n",
            "\u001b[2K     \u001b[90m━━━━━━━━━━━━━━━━━━━━━━━━━━━━━━━━━━━━━━\u001b[0m \u001b[32m114.5/114.5 kB\u001b[0m \u001b[31m10.9 MB/s\u001b[0m eta \u001b[36m0:00:00\u001b[0m\n",
            "\u001b[2K     \u001b[90m━━━━━━━━━━━━━━━━━━━━━━━━━━━━━━━━━━━━━━\u001b[0m \u001b[32m268.8/268.8 kB\u001b[0m \u001b[31m17.7 MB/s\u001b[0m eta \u001b[36m0:00:00\u001b[0m\n",
            "\u001b[2K     \u001b[90m━━━━━━━━━━━━━━━━━━━━━━━━━━━━━━━━━━━━━━\u001b[0m \u001b[32m149.6/149.6 kB\u001b[0m \u001b[31m12.6 MB/s\u001b[0m eta \u001b[36m0:00:00\u001b[0m\n",
            "\u001b[2K     \u001b[90m━━━━━━━━━━━━━━━━━━━━━━━━━━━━━━━━━━━━━━━━\u001b[0m \u001b[32m49.1/49.1 kB\u001b[0m \u001b[31m4.9 MB/s\u001b[0m eta \u001b[36m0:00:00\u001b[0m\n",
            "\u001b[?25h"
          ]
        }
      ],
      "source": [
        "!pip install openai langchain -q"
      ]
    },
    {
      "cell_type": "markdown",
      "source": [
        "### Open AI API Key"
      ],
      "metadata": {
        "id": "y4kD4Zuc1VG-"
      }
    },
    {
      "cell_type": "markdown",
      "source": [
        "You'll need to have an OpenAI API key for this next part - see [this](https://www.onmsft.com/how-to/how-to-get-an-openai-api-key/) if you haven't already set one up!"
      ],
      "metadata": {
        "id": "T0sLjfy8p3jf"
      }
    },
    {
      "cell_type": "code",
      "source": [
        "import os\n",
        "import openai\n",
        "\n",
        "openai.api_key = \"\""
      ],
      "metadata": {
        "id": "0TTosnCHnGHG"
      },
      "execution_count": null,
      "outputs": []
    },
    {
      "cell_type": "markdown",
      "source": [
        "#### Helper Functions (run this cell)"
      ],
      "metadata": {
        "id": "15M3Jx6SBXcO"
      }
    },
    {
      "cell_type": "code",
      "source": [
        "from IPython.display import display, Markdown\n",
        "\n",
        "def disp_markdown(text: str) -> None:\n",
        "  display(Markdown(text))"
      ],
      "metadata": {
        "id": "k3SBzWBUpQ21"
      },
      "execution_count": null,
      "outputs": []
    },
    {
      "cell_type": "markdown",
      "source": [
        "### Our First LangChain ChatModel"
      ],
      "metadata": {
        "id": "fU4LWrv-BayH"
      }
    },
    {
      "cell_type": "markdown",
      "source": [
        "\n",
        "\n",
        "---\n",
        "\n",
        "\n",
        "<div class=\"warn\">Note: Information on OpenAI's <a href=https://openai.com/pricing>pricing</a> and <a href=https://openai.com/policies/usage-policies>usage policies.</a></div>\n",
        "\n",
        "\n",
        "\n",
        "---\n",
        "\n"
      ],
      "metadata": {
        "id": "p-M-VQhQOC1c"
      }
    },
    {
      "cell_type": "markdown",
      "source": [
        "Now that we're set-up with OpenAI's API - we can begin making our first ChatModel!\n",
        "\n",
        "There's a few important things to consider when we're using LangChain's ChatModel that are outlined [here](https://python.langchain.com/en/latest/modules/models/chat.html)\n",
        "\n",
        "Let's begin by initializing the model with OpenAI's `gpt-3.5-turbo` (ChatGPT) model.\n",
        "\n",
        "We're not going to be leveraging the [streaming](https://python.langchain.com/en/latest/modules/models/chat/examples/streaming.html) capabilities in this Notebook - just the basics to get us started!"
      ],
      "metadata": {
        "id": "XVkfqk4NOFWS"
      }
    },
    {
      "cell_type": "code",
      "source": [
        "from langchain.chat_models import ChatOpenAI\n",
        "from langchain.schema import HumanMessage\n",
        "\n",
        "chat_model = ChatOpenAI(model_name=\"gpt-3.5-turbo\")"
      ],
      "metadata": {
        "id": "tNscLft_nxBb"
      },
      "execution_count": null,
      "outputs": []
    },
    {
      "cell_type": "markdown",
      "source": [
        "If we look at the [Chat completions](https://platform.openai.com/docs/guides/chat) documentation for OpenAI's chat models - we'll see that there are a few specific fields we'll need to concern ourselves with:\n",
        "\n",
        "`role`\n",
        "- This refers to one of three \"roles\" that interact with the model in specific ways.\n",
        "- The `system` role is an optional role that can be used to guide the model toward a specific task. Examples of `system` messages might be:\n",
        "  - You are an expert in Python, please answer questions as though we were in a peer coding session.\n",
        "  - You are the world's leading expert in stamps.\n",
        "\n",
        "  These messages help us \"prime\" the model to be more aligned with our desired task!\n",
        "\n",
        "- The `user` role represents, well, the user!\n",
        "- The `assistant` role lets us act in the place of the model's outputs. We can (and will) leverage this for some few-shot prompt engineering!\n",
        "\n",
        "Each of these roles has a class in LangChain to make it nice and easy for us to use!\n",
        "\n",
        "Let's look at an example."
      ],
      "metadata": {
        "id": "vzGhlpwUPyU9"
      }
    },
    {
      "cell_type": "code",
      "source": [
        "from langchain.schema import (\n",
        "    AIMessage,\n",
        "    HumanMessage,\n",
        "    SystemMessage\n",
        ")\n",
        "\n",
        "# The SystemMessage is associated with the system role\n",
        "system_message = SystemMessage(content=\"You are a food critic.\")\n",
        "\n",
        "# The HumanMessage is associated with the user role\n",
        "user_message = HumanMessage(content=\"Do you think Kraft Dinner constitues fine dining?\")\n",
        "\n",
        "# The AIMessage is associated with the assistant role\n",
        "assistant_message = AIMessage(content=\"Egads! No, it most certainly does not!\")"
      ],
      "metadata": {
        "id": "dM7lciZtoPEp"
      },
      "execution_count": null,
      "outputs": []
    },
    {
      "cell_type": "markdown",
      "source": [
        "Now that we have those messages set-up, let's send them to `gpt-3.5-turbo` with a new user message and see how it does!\n",
        "\n",
        "It's easy enough to do this - the ChatOpenAI model accepts a list of inputs!"
      ],
      "metadata": {
        "id": "dSx5HBgjSUvB"
      }
    },
    {
      "cell_type": "code",
      "source": [
        "second_user_message = HumanMessage(content=\"What about Red Lobster, surely that is fine dining!\")\n",
        "\n",
        "# create the list of prompts\n",
        "list_of_prompts = [\n",
        "    system_message,\n",
        "    user_message,\n",
        "    assistant_message,\n",
        "    second_user_message\n",
        "]\n",
        "\n",
        "# we can just call our chat_model on the list of prompts!\n",
        "chat_model(list_of_prompts)"
      ],
      "metadata": {
        "colab": {
          "base_uri": "https://localhost:8080/"
        },
        "id": "LwDLOYOKSTpG",
        "outputId": "94160cfc-c5b6-4825-8838-32e2476bcb73"
      },
      "execution_count": null,
      "outputs": [
        {
          "output_type": "execute_result",
          "data": {
            "text/plain": [
              "AIMessage(content='While Red Lobster is a popular chain restaurant known for its seafood, it is not typically considered fine dining. Fine dining typically refers to restaurants with upscale decor, high-quality ingredients, and expertly crafted dishes that are often served with a higher level of service. While Red Lobster may have some of these elements, it is more of a casual dining experience.', additional_kwargs={})"
            ]
          },
          "metadata": {},
          "execution_count": 26
        }
      ]
    },
    {
      "cell_type": "markdown",
      "source": [
        "Great! That's inline with what we expected to see!"
      ],
      "metadata": {
        "id": "pZMYJDWXTkMq"
      }
    },
    {
      "cell_type": "markdown",
      "source": [
        "### PromptTemplates\n",
        "\n",
        "Next stop, we'll discuss a few templates. This allows us to easily interact with our model by not having to redo work we've already completed!"
      ],
      "metadata": {
        "id": "8DUNhabQUB8f"
      }
    },
    {
      "cell_type": "code",
      "source": [
        "from langchain.prompts.chat import (\n",
        "    ChatPromptTemplate,\n",
        "    SystemMessagePromptTemplate,\n",
        "    HumanMessagePromptTemplate\n",
        ")\n",
        "\n",
        "# we can signify variables we want access to by wrapping them in {}\n",
        "system_prompt_template = \"You are an expert in {SUBJECT}, and you're currently feeling {MOOD}\"\n",
        "system_prompt_template = SystemMessagePromptTemplate.from_template(system_prompt_template)\n",
        "\n",
        "user_prompt_template = \"{CONTENT}\"\n",
        "user_prompt_template = HumanMessagePromptTemplate.from_template(user_prompt_template)\n",
        "\n",
        "# put them together into a ChatPromptTemplate\n",
        "chat_prompt = ChatPromptTemplate.from_messages([system_prompt_template, user_prompt_template])"
      ],
      "metadata": {
        "id": "74vpojywT0-4"
      },
      "execution_count": null,
      "outputs": []
    },
    {
      "cell_type": "markdown",
      "source": [
        "Now that we have our `chat_prompt` set-up with the templates - let's see how we can easily format them with our content!\n",
        "\n",
        "NOTE: `disp_markdown` is just a helper function to display the formatted markdown response."
      ],
      "metadata": {
        "id": "a-nbEW-kV_na"
      }
    },
    {
      "cell_type": "code",
      "source": [
        "# note the method `to_messages()`, that's what converts our formatted prompt into\n",
        "formatted_chat_prompt = chat_prompt.format_prompt(SUBJECT=\"cheeses\", MOOD=\"quite tired\", CONTENT=\"Hi, what are the finest cheeses?\").to_messages()\n",
        "\n",
        "disp_markdown(chat_model(formatted_chat_prompt).content)"
      ],
      "metadata": {
        "colab": {
          "base_uri": "https://localhost:8080/",
          "height": 337
        },
        "id": "P4vd-W2FV7Xq",
        "outputId": "2c4bda02-7ba3-4d72-f6d2-dddeed8c3385"
      },
      "execution_count": null,
      "outputs": [
        {
          "output_type": "display_data",
          "data": {
            "text/plain": [
              "<IPython.core.display.Markdown object>"
            ],
            "text/markdown": "Hello! There are many fine cheeses from around the world, and it's difficult to narrow it down to just a few. However, here are some of the finest cheeses that you might want to try:\n\n1. Parmigiano Reggiano - an Italian hard cheese with a nutty and salty flavor.\n\n2. Roquefort - a French blue cheese with a creamy texture and a sharp, tangy flavor.\n\n3. Gouda - a Dutch cheese with a buttery, nutty flavor and a smooth texture.\n\n4. Manchego - a Spanish sheep's milk cheese with a sharp, nutty flavor.\n\n5. Brie - a French soft cheese with a creamy texture and a mild, buttery flavor.\n\n6. Cheddar - an English cheese with a sharp, tangy flavor and a crumbly texture.\n\n7. Emmental - a Swiss cheese with a nutty, sweet flavor and large holes.\n\n8. Camembert - a French soft cheese with a creamy texture and a rich, earthy flavor.\n\n9. Feta - a Greek cheese with a tangy, salty flavor and a crumbly texture.\n\n10. Mozzarella - an Italian cheese with a mild, creamy flavor and a stretchy texture.\n\nThese are just a few examples of some of the finest cheeses in the world. There are so many more to discover and enjoy!"
          },
          "metadata": {}
        }
      ]
    },
    {
      "cell_type": "markdown",
      "source": [
        "### Putting the Chain in LangChain\n",
        "\n",
        "In essense, a chain is exactly as it sounds - it helps us chain actions together.\n",
        "\n",
        "Let's take a look at an example."
      ],
      "metadata": {
        "id": "hHehNFjAXbU_"
      }
    },
    {
      "cell_type": "code",
      "source": [
        "from langchain.chains import LLMChain\n",
        "\n",
        "chain = LLMChain(llm=chat_model, prompt=chat_prompt)\n",
        "\n",
        "disp_markdown(chain.run(SUBJECT=\"classic cars\", MOOD=\"angry\", CONTENT=\"Is the 67 Chevrolet Impala a good vehicle?\"))"
      ],
      "metadata": {
        "colab": {
          "base_uri": "https://localhost:8080/",
          "height": 163
        },
        "id": "lTzw4ZMoWX0X",
        "outputId": "ed63bd6c-a682-4a95-fbc8-ad5fc678574f"
      },
      "execution_count": null,
      "outputs": [
        {
          "output_type": "display_data",
          "data": {
            "text/plain": [
              "<IPython.core.display.Markdown object>"
            ],
            "text/markdown": "As an AI language model, I do not have emotions and therefore cannot feel angry. However, I can provide you with information about the 1967 Chevrolet Impala.\n\nThe 1967 Chevrolet Impala is considered one of the most iconic American classic cars. It was a full-size car that was available in a variety of body styles, including a convertible, coupe, and sedan. The Impala featured a powerful V8 engine and a comfortable interior, making it a popular choice for those who wanted a combination of performance and luxury.\n\nOverall, the 1967 Chevrolet Impala is considered a good vehicle. It has a strong reputation for reliability, and its classic styling has made it a popular choice among collectors and enthusiasts alike. However, as with any classic car, maintenance and repairs can be costly, so it's important to do your research and make sure you're prepared for the investment before making a purchase."
          },
          "metadata": {}
        }
      ]
    },
    {
      "cell_type": "markdown",
      "source": [
        "### Incorporate A Local Document\n",
        "\n",
        "Now that we've got our first chain running, let's talk about how we can leverage our own document!\n",
        "\n",
        "First off, we'll need a document!\n",
        "\n",
        "For this example, we'll be using Douglas Adam's Hitchker's Guide to the Galaxy - though you can substitute this for any particular document, as long as it's in a text file."
      ],
      "metadata": {
        "id": "Md5XYaAj_t51"
      }
    },
    {
      "cell_type": "code",
      "source": [
        "!wget https://erki.lap.ee/failid/raamatud/guide1.txt"
      ],
      "metadata": {
        "colab": {
          "base_uri": "https://localhost:8080/"
        },
        "id": "l4SJNvP_KXk9",
        "outputId": "d483de62-c84f-4394-f3f5-e07959622562"
      },
      "execution_count": null,
      "outputs": [
        {
          "output_type": "stream",
          "name": "stdout",
          "text": [
            "--2023-05-23 19:50:32--  https://erki.lap.ee/failid/raamatud/guide1.txt\n",
            "Resolving erki.lap.ee (erki.lap.ee)... 185.158.177.102\n",
            "Connecting to erki.lap.ee (erki.lap.ee)|185.158.177.102|:443... connected.\n",
            "HTTP request sent, awaiting response... 200 OK\n",
            "Length: 291862 (285K) [text/plain]\n",
            "Saving to: ‘guide1.txt’\n",
            "\n",
            "guide1.txt          100%[===================>] 285.02K   529KB/s    in 0.5s    \n",
            "\n",
            "2023-05-23 19:50:34 (529 KB/s) - ‘guide1.txt’ saved [291862/291862]\n",
            "\n"
          ]
        }
      ]
    },
    {
      "cell_type": "code",
      "source": [
        "with open(\"guide1.txt\") as f:\n",
        "    hitchhikersguide = f.read()"
      ],
      "metadata": {
        "id": "HX00sL92LATv"
      },
      "execution_count": null,
      "outputs": []
    },
    {
      "cell_type": "markdown",
      "source": [
        "Next we'll want to split our text into appropirately sized chunks.\n",
        "\n",
        "We're going to be using the [CharacterTextSplitter](https://python.langchain.com/en/latest/modules/indexes/text_splitters/examples/character_text_splitter.html) from LangChain today.\n",
        "\n",
        "The size of these chunks will depend heavily on a number of factors relating to which LLM you're using, what the max context size is, and more.\n",
        "\n",
        "You can also choose to have the chunks overlap to avoid potentially missing any important information between chunks. As we're dealing with a novel - there's not a critical need to include overlap.\n",
        "\n",
        "We can also pass in the separator - this is what we'll try and separate the documents on. Be careful to understand your documents so you can be sure you use a valid separator!\n",
        "\n",
        "For now, we'll go with 1000 characters."
      ],
      "metadata": {
        "id": "5PdfLcOlKcjH"
      }
    },
    {
      "cell_type": "code",
      "source": [
        "from langchain.text_splitter import CharacterTextSplitter\n",
        "\n",
        "text_splitter = CharacterTextSplitter(chunk_size=1000, chunk_overlap=0, separator = \"\\n\")\n",
        "texts = text_splitter.split_text(hitchhikersguide)"
      ],
      "metadata": {
        "id": "BSYNeLXPKZtn"
      },
      "execution_count": null,
      "outputs": []
    },
    {
      "cell_type": "code",
      "source": [
        "len(texts)"
      ],
      "metadata": {
        "colab": {
          "base_uri": "https://localhost:8080/"
        },
        "id": "z9w-svpbLq62",
        "outputId": "623c31d3-4676-4dcf-bb41-24df47a7234e"
      },
      "execution_count": null,
      "outputs": [
        {
          "output_type": "execute_result",
          "data": {
            "text/plain": [
              "293"
            ]
          },
          "metadata": {},
          "execution_count": 10
        }
      ]
    },
    {
      "cell_type": "markdown",
      "source": [
        "Now that we've split our document into more manageable sized chunks. We'll need to embed those documents!\n",
        "\n",
        "For more information on embedding - please check out [this](https://platform.openai.com/docs/guides/embeddings) resource from OpenAI.\n",
        "\n",
        "In order to do this, we'll first need to select a method to embed - for this example we'll be using OpenAI's embedding - but you're free to use whatever you'd like.\n",
        "\n",
        "You just need to ensure you're using consistent embeddings as they don't play well with others."
      ],
      "metadata": {
        "id": "dQCXLq-ML_aN"
      }
    },
    {
      "cell_type": "code",
      "source": [
        "from langchain.embeddings.openai import OpenAIEmbeddings\n",
        "\n",
        "os.environ[\"OPENAI_API_KEY\"] = openai.api_key\n",
        "\n",
        "embeddings = OpenAIEmbeddings()"
      ],
      "metadata": {
        "id": "VigAmqxaMd5a"
      },
      "execution_count": null,
      "outputs": []
    },
    {
      "cell_type": "markdown",
      "source": [
        "Now that we've set up how we want to embed our document - we'll need to embed it.\n",
        "\n",
        "For this week we'll be glossing over the technical details of this process - as we'll get more into next week.\n",
        "\n",
        "Just know that we're converting our text into an easily queryable format!\n",
        "\n",
        "We're going to leverage ChromaDB for this example, so we'll want to install that dependency."
      ],
      "metadata": {
        "id": "uEN_IgzqOBNs"
      }
    },
    {
      "cell_type": "code",
      "source": [
        "!pip install chromadb tiktoken -q"
      ],
      "metadata": {
        "colab": {
          "base_uri": "https://localhost:8080/"
        },
        "id": "Y-ZuzHPCOjLc",
        "outputId": "17641e2c-4838-4785-ddb6-4b14b5b0b3b3"
      },
      "execution_count": null,
      "outputs": [
        {
          "output_type": "stream",
          "name": "stdout",
          "text": [
            "\u001b[?25l     \u001b[90m━━━━━━━━━━━━━━━━━━━━━━━━━━━━━━━━━━━━━━━━\u001b[0m \u001b[32m0.0/1.7 MB\u001b[0m \u001b[31m?\u001b[0m eta \u001b[36m-:--:--\u001b[0m\r\u001b[2K     \u001b[91m━━━\u001b[0m\u001b[90m╺\u001b[0m\u001b[90m━━━━━━━━━━━━━━━━━━━━━━━━━━━━━━━━━━━━\u001b[0m \u001b[32m0.1/1.7 MB\u001b[0m \u001b[31m5.0 MB/s\u001b[0m eta \u001b[36m0:00:01\u001b[0m\r\u001b[2K     \u001b[91m━━━━━━━━━━━━━━━━━━━━━━━━━━━━━━━━━━━━━━━\u001b[0m\u001b[91m╸\u001b[0m \u001b[32m1.7/1.7 MB\u001b[0m \u001b[31m23.5 MB/s\u001b[0m eta \u001b[36m0:00:01\u001b[0m\r\u001b[2K     \u001b[90m━━━━━━━━━━━━━━━━━━━━━━━━━━━━━━━━━━━━━━━━\u001b[0m \u001b[32m1.7/1.7 MB\u001b[0m \u001b[31m16.1 MB/s\u001b[0m eta \u001b[36m0:00:00\u001b[0m\n",
            "\u001b[?25h"
          ]
        }
      ]
    },
    {
      "cell_type": "code",
      "source": [
        "from langchain.vectorstores import Chroma\n",
        "\n",
        "docsearch = Chroma.from_texts(texts, embeddings, metadatas=[{\"source\": str(i)} for i in range(len(texts))]).as_retriever()"
      ],
      "metadata": {
        "id": "ql7jqj7TONDE"
      },
      "execution_count": null,
      "outputs": []
    },
    {
      "cell_type": "markdown",
      "source": [
        "Now that we have our documents embedded we're free to query them with natural language! Let's see this in action!"
      ],
      "metadata": {
        "id": "kfn0R64lPb7n"
      }
    },
    {
      "cell_type": "code",
      "source": [
        "query = \"What makes towels important?\"\n",
        "docs = docsearch.get_relevant_documents(query)"
      ],
      "metadata": {
        "id": "ubZwxCHvQzsT"
      },
      "execution_count": null,
      "outputs": []
    },
    {
      "cell_type": "code",
      "source": [
        "docs[0]"
      ],
      "metadata": {
        "colab": {
          "base_uri": "https://localhost:8080/"
        },
        "id": "w4M08F78Q3i3",
        "outputId": "f3b973bc-71dc-4567-fd32-218a8741c03a"
      },
      "execution_count": null,
      "outputs": [
        {
          "output_type": "execute_result",
          "data": {
            "text/plain": [
              "Document(page_content='\"I  described  myself  as  the  second  greatest,\"  intoned  Deep\\nThought, \"and such I am.\"\\n \\nAnother worried look passed between the two programmers. Lunkwill\\ncleared his throat.\\n \\n\"There must be some mistake,\" he said, \"are you  not  a  greatest\\ncomputer  than the Milliard Gargantubrain which can count all the\\natoms in a star in a millisecond?\"\\n \\n\"The Milliard Gargantubrain?\" said Deep Thought with  unconcealed\\ncontempt. \"A mere abacus - mention it not.\"\\n \\n\"And are you  not,\"  said  Fook  leaning  anxiously  forward,  \"a\\ngreater  analyst  than the Googleplex Star Thinker in the Seventh\\nGalaxy of Light and Ingenuity which can calculate the  trajectory\\nof  every  single  dust particle throughout a five-week Dangrabad\\nBeta sand blizzard?\"\\n \\n\"A five-week sand blizzard?\" said Deep  Thought  haughtily.  \"You\\nask  this  of  me  who  have contemplated the very vectors of the\\natoms in the Big Bang itself? Molest  me  not  with  this  pocket\\ncalculator stuff.\"', metadata={'source': '228'})"
            ]
          },
          "metadata": {},
          "execution_count": 33
        }
      ]
    },
    {
      "cell_type": "markdown",
      "source": [
        "Finally, we're able to combine what we've done so far into a chain!\n",
        "\n",
        "We're going to leverage the `load_qa_chain` to quickly integrate our queryable documents with an LLM.\n",
        "\n",
        "There are 4 major methods of building this chain, they can be found [here](https://docs.langchain.com/docs/components/chains/index_related_chains)!\n",
        "\n",
        "For this example we'll be using the `stuff` chain type."
      ],
      "metadata": {
        "id": "-8W9ZmNaRRBX"
      }
    },
    {
      "cell_type": "code",
      "source": [
        "from langchain.chains.question_answering import load_qa_chain\n",
        "from langchain.llms import OpenAI\n",
        "\n",
        "chain = load_qa_chain(OpenAI(temperature=0), chain_type=\"stuff\")\n",
        "query = \"How much cheese is in this book?\"\n",
        "docs = docsearch.get_relevant_documents(query)\n",
        "chain.run(input_documents=docs, question=query)"
      ],
      "metadata": {
        "id": "S7vAWKiFSVj_"
      },
      "execution_count": null,
      "outputs": []
    },
    {
      "cell_type": "markdown",
      "source": [
        "Now that we have this set-up, we'll want to package it into an app and pass it to a Hugging Face Space!\n",
        "\n",
        "You can find instruction on how to do that in the GitHub Repository!"
      ],
      "metadata": {
        "id": "fMxm7pdwUs5K"
      }
    }
  ]
}